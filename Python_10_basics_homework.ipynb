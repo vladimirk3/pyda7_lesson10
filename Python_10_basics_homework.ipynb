{
 "cells": [
  {
   "cell_type": "code",
   "execution_count": 57,
   "metadata": {},
   "outputs": [
    {
     "name": "stdout",
     "output_type": "stream",
     "text": [
      "Фильм с максимальным количеством оценок 5:  Shawshank Redemption, The (1994)\n"
     ]
    }
   ],
   "source": [
    "#Задание 1\n",
    "import pandas as pd\n",
    "data_rating = pd.read_csv('ratings.csv')\n",
    "data_movie = pd.read_csv('movies.csv')\n",
    "id_max_rate = data_rating[data_rating['rating'] == 5]['movieId'].value_counts().head(1).keys().tolist()[0]\n",
    "title_max_rate = data_movie[data_movie['movieId'] == id_max_rate]['title'].tolist()[0]\n",
    "print('Фильм с максимальным количеством оценок 5: ', title_max_rate)\n",
    "country \n",
    "year\n",
    "quantity\n",
    "category\n",
    "Latvia\n",
    "Lithuania\n",
    "Estonia"
   ]
  },
  {
   "cell_type": "code",
   "execution_count": 111,
   "metadata": {},
   "outputs": [
    {
     "data": {
      "text/plain": [
       "240580.0"
      ]
     },
     "execution_count": 111,
     "metadata": {},
     "output_type": "execute_result"
    }
   ],
   "source": [
    "#Задание 2\n",
    "dp = pd.read_csv('power.csv')\n",
    "dp[((dp['country'].str.contains('Estonia', case=False)) | (dp['country'].str.contains('Lithuania', case=False)) | (dp['country'].str.contains('Latvia', case=False))) & ((dp['category'] == 4) | (dp['category'] == 12) | (dp['category'] == 21)) & ((dp['year'] >= 2005) & (dp['year'] <= 2010)) & (data_power['quantity'] >= 0)]['quantity'].sum()"
   ]
  },
  {
   "cell_type": "code",
   "execution_count": 119,
   "metadata": {},
   "outputs": [
    {
     "data": {
      "text/html": [
       "<div>\n",
       "<style scoped>\n",
       "    .dataframe tbody tr th:only-of-type {\n",
       "        vertical-align: middle;\n",
       "    }\n",
       "\n",
       "    .dataframe tbody tr th {\n",
       "        vertical-align: top;\n",
       "    }\n",
       "\n",
       "    .dataframe thead th {\n",
       "        text-align: right;\n",
       "    }\n",
       "</style>\n",
       "<table border=\"1\" class=\"dataframe\">\n",
       "  <thead>\n",
       "    <tr style=\"text-align: right;\">\n",
       "      <th></th>\n",
       "      <th>0</th>\n",
       "      <th>1</th>\n",
       "    </tr>\n",
       "  </thead>\n",
       "  <tbody>\n",
       "    <tr>\n",
       "      <td>0</td>\n",
       "      <td>Net Assets</td>\n",
       "      <td>307.85B</td>\n",
       "    </tr>\n",
       "    <tr>\n",
       "      <td>1</td>\n",
       "      <td>NAV</td>\n",
       "      <td>333.93</td>\n",
       "    </tr>\n",
       "    <tr>\n",
       "      <td>2</td>\n",
       "      <td>PE Ratio (TTM)</td>\n",
       "      <td>NaN</td>\n",
       "    </tr>\n",
       "    <tr>\n",
       "      <td>3</td>\n",
       "      <td>Yield</td>\n",
       "      <td>1.75%</td>\n",
       "    </tr>\n",
       "    <tr>\n",
       "      <td>4</td>\n",
       "      <td>YTD Daily Total Return</td>\n",
       "      <td>3.69%</td>\n",
       "    </tr>\n",
       "    <tr>\n",
       "      <td>5</td>\n",
       "      <td>Beta (5Y Monthly)</td>\n",
       "      <td>1.00</td>\n",
       "    </tr>\n",
       "    <tr>\n",
       "      <td>6</td>\n",
       "      <td>Expense Ratio (net)</td>\n",
       "      <td>0.09%</td>\n",
       "    </tr>\n",
       "    <tr>\n",
       "      <td>7</td>\n",
       "      <td>Inception Date</td>\n",
       "      <td>1993-01-22</td>\n",
       "    </tr>\n",
       "  </tbody>\n",
       "</table>\n",
       "</div>"
      ],
      "text/plain": [
       "                        0           1\n",
       "0              Net Assets     307.85B\n",
       "1                     NAV      333.93\n",
       "2          PE Ratio (TTM)         NaN\n",
       "3                   Yield       1.75%\n",
       "4  YTD Daily Total Return       3.69%\n",
       "5       Beta (5Y Monthly)        1.00\n",
       "6     Expense Ratio (net)       0.09%\n",
       "7          Inception Date  1993-01-22"
      ]
     },
     "execution_count": 119,
     "metadata": {},
     "output_type": "execute_result"
    }
   ],
   "source": [
    "#Задание 3\n",
    "page_url = 'https://finance.yahoo.com/quote/SPY?p=SPY&.tsrc=fin-srch'\n",
    "pd.read_html(page_url)[1]"
   ]
  }
 ],
 "metadata": {
  "kernelspec": {
   "display_name": "Python 3",
   "language": "python",
   "name": "python3"
  },
  "language_info": {
   "codemirror_mode": {
    "name": "ipython",
    "version": 3
   },
   "file_extension": ".py",
   "mimetype": "text/x-python",
   "name": "python",
   "nbconvert_exporter": "python",
   "pygments_lexer": "ipython3",
   "version": "3.7.4"
  }
 },
 "nbformat": 4,
 "nbformat_minor": 2
}
